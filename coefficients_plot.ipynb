def visualize_coefficients(coefficients, feature_names, n_top_features=5):
    coefficients = coefficients.squeeze()
    # get coefficients with large absolute values
    coef = coefficients.ravel()
    positive_coefficients = np.argsort(coef)[-n_top_features:]
    negative_coefficients = np.argsort(coef)[:n_top_features]
    plot_coefficients = np.hstack([negative_coefficients,
                                          positive_coefficients])

    fig = go.Figure([go.Bar(
    x=feature_names.ravel()[plot_coefficients], 
    y=coef.ravel()[plot_coefficients], 
    text=coef.ravel()[plot_coefficients])])
    fig.update_traces(texttemplate='%{text:.2s}', textposition='outside')
    fig.update_layout(title = 'coefs')
    fig.show()
