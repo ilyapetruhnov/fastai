{
 "cells": [
  {
   "cell_type": "code",
   "execution_count": 1,
   "metadata": {},
   "outputs": [],
   "source": [
    "import seaborn as sns\n",
    "import pandas as pd\n",
    "import numpy as np\n",
    "import matplotlib.pyplot as plt\n",
    "%matplotlib inline\n",
    "import folium"
   ]
  },
  {
   "cell_type": "code",
   "execution_count": 2,
   "metadata": {},
   "outputs": [],
   "source": [
    "data = pd.read_csv('listings.csv')"
   ]
  },
  {
   "cell_type": "code",
   "execution_count": 146,
   "metadata": {},
   "outputs": [
    {
     "name": "stderr",
     "output_type": "stream",
     "text": [
      "/anaconda3/envs/venv/lib/python3.6/site-packages/IPython/core/interactiveshell.py:3063: DtypeWarning: Columns (43,61,62) have mixed types.Specify dtype option on import or set low_memory=False.\n",
      "  interactivity=interactivity, compiler=compiler, result=result)\n"
     ]
    }
   ],
   "source": [
    "detailed = pd.read_csv('listings_detailed.csv')"
   ]
  },
  {
   "cell_type": "code",
   "execution_count": 147,
   "metadata": {},
   "outputs": [
    {
     "data": {
      "text/plain": [
       "strict_14_with_grace_period    7396\n",
       "flexible                       7138\n",
       "moderate                       6090\n",
       "super_strict_30                 146\n",
       "super_strict_60                  65\n",
       "strict                            2\n",
       "Name: cancellation_policy, dtype: int64"
      ]
     },
     "execution_count": 147,
     "metadata": {},
     "output_type": "execute_result"
    }
   ],
   "source": [
    "detailed.cancellation_policy.value_counts()"
   ]
  },
  {
   "cell_type": "code",
   "execution_count": 155,
   "metadata": {},
   "outputs": [],
   "source": [
    "can_policy = detailed[['id','cancellation_policy']]"
   ]
  },
  {
   "cell_type": "code",
   "execution_count": 157,
   "metadata": {},
   "outputs": [
    {
     "data": {
      "text/html": [
       "<div>\n",
       "<style scoped>\n",
       "    .dataframe tbody tr th:only-of-type {\n",
       "        vertical-align: middle;\n",
       "    }\n",
       "\n",
       "    .dataframe tbody tr th {\n",
       "        vertical-align: top;\n",
       "    }\n",
       "\n",
       "    .dataframe thead th {\n",
       "        text-align: right;\n",
       "    }\n",
       "</style>\n",
       "<table border=\"1\" class=\"dataframe\">\n",
       "  <thead>\n",
       "    <tr style=\"text-align: right;\">\n",
       "      <th></th>\n",
       "      <th>id</th>\n",
       "      <th>cancellation_policy</th>\n",
       "    </tr>\n",
       "  </thead>\n",
       "  <tbody>\n",
       "    <tr>\n",
       "      <th>0</th>\n",
       "      <td>6369</td>\n",
       "      <td>flexible</td>\n",
       "    </tr>\n",
       "    <tr>\n",
       "      <th>1</th>\n",
       "      <td>21853</td>\n",
       "      <td>strict_14_with_grace_period</td>\n",
       "    </tr>\n",
       "    <tr>\n",
       "      <th>2</th>\n",
       "      <td>24805</td>\n",
       "      <td>moderate</td>\n",
       "    </tr>\n",
       "    <tr>\n",
       "      <th>3</th>\n",
       "      <td>24836</td>\n",
       "      <td>moderate</td>\n",
       "    </tr>\n",
       "    <tr>\n",
       "      <th>4</th>\n",
       "      <td>26825</td>\n",
       "      <td>strict_14_with_grace_period</td>\n",
       "    </tr>\n",
       "    <tr>\n",
       "      <th>...</th>\n",
       "      <td>...</td>\n",
       "      <td>...</td>\n",
       "    </tr>\n",
       "    <tr>\n",
       "      <th>20832</th>\n",
       "      <td>38725567</td>\n",
       "      <td>strict_14_with_grace_period</td>\n",
       "    </tr>\n",
       "    <tr>\n",
       "      <th>20833</th>\n",
       "      <td>38726351</td>\n",
       "      <td>flexible</td>\n",
       "    </tr>\n",
       "    <tr>\n",
       "      <th>20834</th>\n",
       "      <td>38727654</td>\n",
       "      <td>moderate</td>\n",
       "    </tr>\n",
       "    <tr>\n",
       "      <th>20835</th>\n",
       "      <td>38728727</td>\n",
       "      <td>flexible</td>\n",
       "    </tr>\n",
       "    <tr>\n",
       "      <th>20836</th>\n",
       "      <td>38730025</td>\n",
       "      <td>flexible</td>\n",
       "    </tr>\n",
       "  </tbody>\n",
       "</table>\n",
       "<p>20837 rows × 2 columns</p>\n",
       "</div>"
      ],
      "text/plain": [
       "             id          cancellation_policy\n",
       "0          6369                     flexible\n",
       "1         21853  strict_14_with_grace_period\n",
       "2         24805                     moderate\n",
       "3         24836                     moderate\n",
       "4         26825  strict_14_with_grace_period\n",
       "...         ...                          ...\n",
       "20832  38725567  strict_14_with_grace_period\n",
       "20833  38726351                     flexible\n",
       "20834  38727654                     moderate\n",
       "20835  38728727                     flexible\n",
       "20836  38730025                     flexible\n",
       "\n",
       "[20837 rows x 2 columns]"
      ]
     },
     "execution_count": 157,
     "metadata": {},
     "output_type": "execute_result"
    }
   ],
   "source": [
    "can_policy"
   ]
  },
  {
   "cell_type": "code",
   "execution_count": 169,
   "metadata": {},
   "outputs": [],
   "source": [
    "data = data.join(can_policy.set_index('id'), on='id')"
   ]
  },
  {
   "cell_type": "code",
   "execution_count": 175,
   "metadata": {},
   "outputs": [
    {
     "data": {
      "text/html": [
       "<div>\n",
       "<style scoped>\n",
       "    .dataframe tbody tr th:only-of-type {\n",
       "        vertical-align: middle;\n",
       "    }\n",
       "\n",
       "    .dataframe tbody tr th {\n",
       "        vertical-align: top;\n",
       "    }\n",
       "\n",
       "    .dataframe thead th {\n",
       "        text-align: right;\n",
       "    }\n",
       "</style>\n",
       "<table border=\"1\" class=\"dataframe\">\n",
       "  <thead>\n",
       "    <tr style=\"text-align: right;\">\n",
       "      <th></th>\n",
       "      <th>neighbourhood_group</th>\n",
       "      <th>latitude</th>\n",
       "      <th>longitude</th>\n",
       "      <th>room_type</th>\n",
       "      <th>price</th>\n",
       "      <th>minimum_nights</th>\n",
       "      <th>number_of_reviews</th>\n",
       "      <th>reviews_per_month</th>\n",
       "      <th>calculated_host_listings_count</th>\n",
       "      <th>availability_365</th>\n",
       "      <th>cancellation_policy</th>\n",
       "    </tr>\n",
       "  </thead>\n",
       "  <tbody>\n",
       "    <tr>\n",
       "      <th>0</th>\n",
       "      <td>Chamartín</td>\n",
       "      <td>40.45628</td>\n",
       "      <td>-3.67763</td>\n",
       "      <td>Private room</td>\n",
       "      <td>70</td>\n",
       "      <td>1</td>\n",
       "      <td>65</td>\n",
       "      <td>0.56</td>\n",
       "      <td>1</td>\n",
       "      <td>53</td>\n",
       "      <td>flexible</td>\n",
       "    </tr>\n",
       "    <tr>\n",
       "      <th>1</th>\n",
       "      <td>Latina</td>\n",
       "      <td>40.40341</td>\n",
       "      <td>-3.74084</td>\n",
       "      <td>Private room</td>\n",
       "      <td>17</td>\n",
       "      <td>4</td>\n",
       "      <td>33</td>\n",
       "      <td>0.55</td>\n",
       "      <td>2</td>\n",
       "      <td>48</td>\n",
       "      <td>strict_14_with_grace_period</td>\n",
       "    </tr>\n",
       "    <tr>\n",
       "      <th>2</th>\n",
       "      <td>Centro</td>\n",
       "      <td>40.42202</td>\n",
       "      <td>-3.70395</td>\n",
       "      <td>Entire home/apt</td>\n",
       "      <td>80</td>\n",
       "      <td>5</td>\n",
       "      <td>2</td>\n",
       "      <td>0.03</td>\n",
       "      <td>1</td>\n",
       "      <td>354</td>\n",
       "      <td>moderate</td>\n",
       "    </tr>\n",
       "    <tr>\n",
       "      <th>3</th>\n",
       "      <td>Centro</td>\n",
       "      <td>40.41995</td>\n",
       "      <td>-3.69764</td>\n",
       "      <td>Entire home/apt</td>\n",
       "      <td>115</td>\n",
       "      <td>3</td>\n",
       "      <td>64</td>\n",
       "      <td>0.63</td>\n",
       "      <td>1</td>\n",
       "      <td>301</td>\n",
       "      <td>moderate</td>\n",
       "    </tr>\n",
       "    <tr>\n",
       "      <th>4</th>\n",
       "      <td>Arganzuela</td>\n",
       "      <td>40.38985</td>\n",
       "      <td>-3.69011</td>\n",
       "      <td>Private room</td>\n",
       "      <td>25</td>\n",
       "      <td>2</td>\n",
       "      <td>136</td>\n",
       "      <td>1.19</td>\n",
       "      <td>1</td>\n",
       "      <td>337</td>\n",
       "      <td>strict_14_with_grace_period</td>\n",
       "    </tr>\n",
       "    <tr>\n",
       "      <th>...</th>\n",
       "      <td>...</td>\n",
       "      <td>...</td>\n",
       "      <td>...</td>\n",
       "      <td>...</td>\n",
       "      <td>...</td>\n",
       "      <td>...</td>\n",
       "      <td>...</td>\n",
       "      <td>...</td>\n",
       "      <td>...</td>\n",
       "      <td>...</td>\n",
       "      <td>...</td>\n",
       "    </tr>\n",
       "    <tr>\n",
       "      <th>20832</th>\n",
       "      <td>Chamartín</td>\n",
       "      <td>40.47847</td>\n",
       "      <td>-3.68395</td>\n",
       "      <td>Entire home/apt</td>\n",
       "      <td>100</td>\n",
       "      <td>1</td>\n",
       "      <td>0</td>\n",
       "      <td>NaN</td>\n",
       "      <td>4</td>\n",
       "      <td>108</td>\n",
       "      <td>strict_14_with_grace_period</td>\n",
       "    </tr>\n",
       "    <tr>\n",
       "      <th>20833</th>\n",
       "      <td>Puente de Vallecas</td>\n",
       "      <td>40.38533</td>\n",
       "      <td>-3.63968</td>\n",
       "      <td>Private room</td>\n",
       "      <td>24</td>\n",
       "      <td>2</td>\n",
       "      <td>0</td>\n",
       "      <td>NaN</td>\n",
       "      <td>4</td>\n",
       "      <td>74</td>\n",
       "      <td>flexible</td>\n",
       "    </tr>\n",
       "    <tr>\n",
       "      <th>20834</th>\n",
       "      <td>Centro</td>\n",
       "      <td>40.42182</td>\n",
       "      <td>-3.70336</td>\n",
       "      <td>Entire home/apt</td>\n",
       "      <td>75</td>\n",
       "      <td>2</td>\n",
       "      <td>0</td>\n",
       "      <td>NaN</td>\n",
       "      <td>2</td>\n",
       "      <td>196</td>\n",
       "      <td>moderate</td>\n",
       "    </tr>\n",
       "    <tr>\n",
       "      <th>20835</th>\n",
       "      <td>Centro</td>\n",
       "      <td>40.40896</td>\n",
       "      <td>-3.70107</td>\n",
       "      <td>Entire home/apt</td>\n",
       "      <td>45</td>\n",
       "      <td>2</td>\n",
       "      <td>0</td>\n",
       "      <td>NaN</td>\n",
       "      <td>1</td>\n",
       "      <td>104</td>\n",
       "      <td>flexible</td>\n",
       "    </tr>\n",
       "    <tr>\n",
       "      <th>20836</th>\n",
       "      <td>Centro</td>\n",
       "      <td>40.41973</td>\n",
       "      <td>-3.69666</td>\n",
       "      <td>Private room</td>\n",
       "      <td>75</td>\n",
       "      <td>1</td>\n",
       "      <td>0</td>\n",
       "      <td>NaN</td>\n",
       "      <td>5</td>\n",
       "      <td>268</td>\n",
       "      <td>flexible</td>\n",
       "    </tr>\n",
       "  </tbody>\n",
       "</table>\n",
       "<p>20837 rows × 11 columns</p>\n",
       "</div>"
      ],
      "text/plain": [
       "      neighbourhood_group  latitude  longitude        room_type  price  \\\n",
       "0               Chamartín  40.45628   -3.67763     Private room     70   \n",
       "1                  Latina  40.40341   -3.74084     Private room     17   \n",
       "2                  Centro  40.42202   -3.70395  Entire home/apt     80   \n",
       "3                  Centro  40.41995   -3.69764  Entire home/apt    115   \n",
       "4              Arganzuela  40.38985   -3.69011     Private room     25   \n",
       "...                   ...       ...        ...              ...    ...   \n",
       "20832           Chamartín  40.47847   -3.68395  Entire home/apt    100   \n",
       "20833  Puente de Vallecas  40.38533   -3.63968     Private room     24   \n",
       "20834              Centro  40.42182   -3.70336  Entire home/apt     75   \n",
       "20835              Centro  40.40896   -3.70107  Entire home/apt     45   \n",
       "20836              Centro  40.41973   -3.69666     Private room     75   \n",
       "\n",
       "       minimum_nights  number_of_reviews  reviews_per_month  \\\n",
       "0                   1                 65               0.56   \n",
       "1                   4                 33               0.55   \n",
       "2                   5                  2               0.03   \n",
       "3                   3                 64               0.63   \n",
       "4                   2                136               1.19   \n",
       "...               ...                ...                ...   \n",
       "20832               1                  0                NaN   \n",
       "20833               2                  0                NaN   \n",
       "20834               2                  0                NaN   \n",
       "20835               2                  0                NaN   \n",
       "20836               1                  0                NaN   \n",
       "\n",
       "       calculated_host_listings_count  availability_365  \\\n",
       "0                                   1                53   \n",
       "1                                   2                48   \n",
       "2                                   1               354   \n",
       "3                                   1               301   \n",
       "4                                   1               337   \n",
       "...                               ...               ...   \n",
       "20832                               4               108   \n",
       "20833                               4                74   \n",
       "20834                               2               196   \n",
       "20835                               1               104   \n",
       "20836                               5               268   \n",
       "\n",
       "               cancellation_policy  \n",
       "0                         flexible  \n",
       "1      strict_14_with_grace_period  \n",
       "2                         moderate  \n",
       "3                         moderate  \n",
       "4      strict_14_with_grace_period  \n",
       "...                            ...  \n",
       "20832  strict_14_with_grace_period  \n",
       "20833                     flexible  \n",
       "20834                     moderate  \n",
       "20835                     flexible  \n",
       "20836                     flexible  \n",
       "\n",
       "[20837 rows x 11 columns]"
      ]
     },
     "execution_count": 175,
     "metadata": {},
     "output_type": "execute_result"
    }
   ],
   "source": [
    "data"
   ]
  },
  {
   "cell_type": "code",
   "execution_count": 173,
   "metadata": {},
   "outputs": [],
   "source": [
    "to_drop = ['id', 'name', 'host_id', 'host_name', 'last_review', 'neighbourhood']\n",
    "data.drop(to_drop,axis=1,inplace=True)"
   ]
  },
  {
   "cell_type": "code",
   "execution_count": 174,
   "metadata": {},
   "outputs": [
    {
     "name": "stdout",
     "output_type": "stream",
     "text": [
      "<class 'pandas.core.frame.DataFrame'>\n",
      "RangeIndex: 20837 entries, 0 to 20836\n",
      "Data columns (total 11 columns):\n",
      " #   Column                          Non-Null Count  Dtype  \n",
      "---  ------                          --------------  -----  \n",
      " 0   neighbourhood_group             20837 non-null  object \n",
      " 1   latitude                        20837 non-null  float64\n",
      " 2   longitude                       20837 non-null  float64\n",
      " 3   room_type                       20837 non-null  object \n",
      " 4   price                           20837 non-null  int64  \n",
      " 5   minimum_nights                  20837 non-null  int64  \n",
      " 6   number_of_reviews               20837 non-null  int64  \n",
      " 7   reviews_per_month               16183 non-null  float64\n",
      " 8   calculated_host_listings_count  20837 non-null  int64  \n",
      " 9   availability_365                20837 non-null  int64  \n",
      " 10  cancellation_policy             20837 non-null  object \n",
      "dtypes: float64(3), int64(5), object(3)\n",
      "memory usage: 1.7+ MB\n"
     ]
    }
   ],
   "source": [
    "data.info()"
   ]
  },
  {
   "cell_type": "code",
   "execution_count": 49,
   "metadata": {},
   "outputs": [
    {
     "data": {
      "text/plain": [
       "id                                   0\n",
       "name                                 5\n",
       "host_id                              0\n",
       "host_name                           15\n",
       "neighbourhood_group                  0\n",
       "neighbourhood                        0\n",
       "latitude                             0\n",
       "longitude                            0\n",
       "room_type                            0\n",
       "price                                0\n",
       "minimum_nights                       0\n",
       "number_of_reviews                    0\n",
       "last_review                       4654\n",
       "reviews_per_month                 4654\n",
       "calculated_host_listings_count       0\n",
       "availability_365                     0\n",
       "dtype: int64"
      ]
     },
     "execution_count": 49,
     "metadata": {},
     "output_type": "execute_result"
    }
   ],
   "source": [
    "data.isnull().sum()"
   ]
  },
  {
   "cell_type": "code",
   "execution_count": 50,
   "metadata": {},
   "outputs": [
    {
     "data": {
      "text/html": [
       "<div>\n",
       "<style scoped>\n",
       "    .dataframe tbody tr th:only-of-type {\n",
       "        vertical-align: middle;\n",
       "    }\n",
       "\n",
       "    .dataframe tbody tr th {\n",
       "        vertical-align: top;\n",
       "    }\n",
       "\n",
       "    .dataframe thead th {\n",
       "        text-align: right;\n",
       "    }\n",
       "</style>\n",
       "<table border=\"1\" class=\"dataframe\">\n",
       "  <thead>\n",
       "    <tr style=\"text-align: right;\">\n",
       "      <th></th>\n",
       "      <th>id</th>\n",
       "      <th>host_id</th>\n",
       "      <th>latitude</th>\n",
       "      <th>longitude</th>\n",
       "      <th>price</th>\n",
       "      <th>minimum_nights</th>\n",
       "      <th>number_of_reviews</th>\n",
       "      <th>reviews_per_month</th>\n",
       "      <th>calculated_host_listings_count</th>\n",
       "      <th>availability_365</th>\n",
       "    </tr>\n",
       "  </thead>\n",
       "  <tbody>\n",
       "    <tr>\n",
       "      <th>count</th>\n",
       "      <td>2.083700e+04</td>\n",
       "      <td>2.083700e+04</td>\n",
       "      <td>20837.000000</td>\n",
       "      <td>20837.000000</td>\n",
       "      <td>20837.000000</td>\n",
       "      <td>20837.000000</td>\n",
       "      <td>20837.000000</td>\n",
       "      <td>16183.000000</td>\n",
       "      <td>20837.000000</td>\n",
       "      <td>20837.000000</td>\n",
       "    </tr>\n",
       "    <tr>\n",
       "      <th>mean</th>\n",
       "      <td>2.356026e+07</td>\n",
       "      <td>1.014144e+08</td>\n",
       "      <td>40.420548</td>\n",
       "      <td>-3.694500</td>\n",
       "      <td>134.065364</td>\n",
       "      <td>4.373614</td>\n",
       "      <td>35.163891</td>\n",
       "      <td>1.958974</td>\n",
       "      <td>12.188559</td>\n",
       "      <td>155.097567</td>\n",
       "    </tr>\n",
       "    <tr>\n",
       "      <th>std</th>\n",
       "      <td>1.083667e+07</td>\n",
       "      <td>8.956078e+07</td>\n",
       "      <td>0.021881</td>\n",
       "      <td>0.027793</td>\n",
       "      <td>381.207575</td>\n",
       "      <td>20.428777</td>\n",
       "      <td>61.863053</td>\n",
       "      <td>1.967925</td>\n",
       "      <td>32.156130</td>\n",
       "      <td>133.746263</td>\n",
       "    </tr>\n",
       "    <tr>\n",
       "      <th>min</th>\n",
       "      <td>6.369000e+03</td>\n",
       "      <td>5.154000e+03</td>\n",
       "      <td>40.319480</td>\n",
       "      <td>-3.890940</td>\n",
       "      <td>8.000000</td>\n",
       "      <td>1.000000</td>\n",
       "      <td>0.000000</td>\n",
       "      <td>0.010000</td>\n",
       "      <td>1.000000</td>\n",
       "      <td>0.000000</td>\n",
       "    </tr>\n",
       "    <tr>\n",
       "      <th>25%</th>\n",
       "      <td>1.608985e+07</td>\n",
       "      <td>2.232182e+07</td>\n",
       "      <td>40.409550</td>\n",
       "      <td>-3.707490</td>\n",
       "      <td>40.000000</td>\n",
       "      <td>1.000000</td>\n",
       "      <td>1.000000</td>\n",
       "      <td>0.430000</td>\n",
       "      <td>1.000000</td>\n",
       "      <td>17.000000</td>\n",
       "    </tr>\n",
       "    <tr>\n",
       "      <th>50%</th>\n",
       "      <td>2.459474e+07</td>\n",
       "      <td>7.574288e+07</td>\n",
       "      <td>40.418900</td>\n",
       "      <td>-3.701180</td>\n",
       "      <td>65.000000</td>\n",
       "      <td>2.000000</td>\n",
       "      <td>8.000000</td>\n",
       "      <td>1.280000</td>\n",
       "      <td>2.000000</td>\n",
       "      <td>123.000000</td>\n",
       "    </tr>\n",
       "    <tr>\n",
       "      <th>75%</th>\n",
       "      <td>3.401318e+07</td>\n",
       "      <td>1.719263e+08</td>\n",
       "      <td>40.429020</td>\n",
       "      <td>-3.689110</td>\n",
       "      <td>100.000000</td>\n",
       "      <td>3.000000</td>\n",
       "      <td>42.000000</td>\n",
       "      <td>2.940000</td>\n",
       "      <td>7.000000</td>\n",
       "      <td>300.000000</td>\n",
       "    </tr>\n",
       "    <tr>\n",
       "      <th>max</th>\n",
       "      <td>3.873002e+07</td>\n",
       "      <td>2.960847e+08</td>\n",
       "      <td>40.573990</td>\n",
       "      <td>-3.527660</td>\n",
       "      <td>9999.000000</td>\n",
       "      <td>1125.000000</td>\n",
       "      <td>594.000000</td>\n",
       "      <td>34.230000</td>\n",
       "      <td>231.000000</td>\n",
       "      <td>365.000000</td>\n",
       "    </tr>\n",
       "  </tbody>\n",
       "</table>\n",
       "</div>"
      ],
      "text/plain": [
       "                 id       host_id      latitude     longitude         price  \\\n",
       "count  2.083700e+04  2.083700e+04  20837.000000  20837.000000  20837.000000   \n",
       "mean   2.356026e+07  1.014144e+08     40.420548     -3.694500    134.065364   \n",
       "std    1.083667e+07  8.956078e+07      0.021881      0.027793    381.207575   \n",
       "min    6.369000e+03  5.154000e+03     40.319480     -3.890940      8.000000   \n",
       "25%    1.608985e+07  2.232182e+07     40.409550     -3.707490     40.000000   \n",
       "50%    2.459474e+07  7.574288e+07     40.418900     -3.701180     65.000000   \n",
       "75%    3.401318e+07  1.719263e+08     40.429020     -3.689110    100.000000   \n",
       "max    3.873002e+07  2.960847e+08     40.573990     -3.527660   9999.000000   \n",
       "\n",
       "       minimum_nights  number_of_reviews  reviews_per_month  \\\n",
       "count    20837.000000       20837.000000       16183.000000   \n",
       "mean         4.373614          35.163891           1.958974   \n",
       "std         20.428777          61.863053           1.967925   \n",
       "min          1.000000           0.000000           0.010000   \n",
       "25%          1.000000           1.000000           0.430000   \n",
       "50%          2.000000           8.000000           1.280000   \n",
       "75%          3.000000          42.000000           2.940000   \n",
       "max       1125.000000         594.000000          34.230000   \n",
       "\n",
       "       calculated_host_listings_count  availability_365  \n",
       "count                    20837.000000      20837.000000  \n",
       "mean                        12.188559        155.097567  \n",
       "std                         32.156130        133.746263  \n",
       "min                          1.000000          0.000000  \n",
       "25%                          1.000000         17.000000  \n",
       "50%                          2.000000        123.000000  \n",
       "75%                          7.000000        300.000000  \n",
       "max                        231.000000        365.000000  "
      ]
     },
     "execution_count": 50,
     "metadata": {},
     "output_type": "execute_result"
    }
   ],
   "source": [
    "data.describe()"
   ]
  },
  {
   "cell_type": "code",
   "execution_count": 60,
   "metadata": {},
   "outputs": [
    {
     "data": {
      "text/plain": [
       "id                                0.116168\n",
       "host_id                           0.089004\n",
       "availability_365                  0.064610\n",
       "longitude                         0.063276\n",
       "calculated_host_listings_count    0.046914\n",
       "latitude                          0.043225\n",
       "minimum_nights                   -0.015241\n",
       "reviews_per_month                -0.056573\n",
       "number_of_reviews                -0.089585\n",
       "Name: price, dtype: float64"
      ]
     },
     "execution_count": 60,
     "metadata": {},
     "output_type": "execute_result"
    }
   ],
   "source": [
    "data.corr().price.sort_values(ascending=False)[1:]"
   ]
  },
  {
   "cell_type": "code",
   "execution_count": null,
   "metadata": {},
   "outputs": [],
   "source": []
  },
  {
   "cell_type": "code",
   "execution_count": null,
   "metadata": {},
   "outputs": [],
   "source": []
  },
  {
   "cell_type": "code",
   "execution_count": 4,
   "metadata": {},
   "outputs": [
    {
     "data": {
      "text/plain": [
       "Centro                   9773\n",
       "Salamanca                1375\n",
       "Chamberí                 1331\n",
       "Arganzuela               1121\n",
       "Tetuán                    838\n",
       "Carabanchel               678\n",
       "Retiro                    665\n",
       "Latina                    616\n",
       "Ciudad Lineal             613\n",
       "Puente de Vallecas        591\n",
       "Chamartín                 551\n",
       "Moncloa - Aravaca         542\n",
       "San Blas - Canillejas     524\n",
       "Usera                     361\n",
       "Hortaleza                 332\n",
       "Fuencarral - El Pardo     300\n",
       "Villaverde                166\n",
       "Barajas                   165\n",
       "Moratalaz                 127\n",
       "Villa de Vallecas         103\n",
       "Vicálvaro                  65\n",
       "Name: neighbourhood_group, dtype: int64"
      ]
     },
     "execution_count": 4,
     "metadata": {},
     "output_type": "execute_result"
    }
   ],
   "source": [
    "data.neighbourhood_group.value_counts()"
   ]
  },
  {
   "cell_type": "code",
   "execution_count": 5,
   "metadata": {},
   "outputs": [
    {
     "data": {
      "text/plain": [
       "Embajadores      2690\n",
       "Universidad      1996\n",
       "Palacio          1505\n",
       "Sol              1371\n",
       "Justicia         1207\n",
       "                 ... \n",
       "Pavones             5\n",
       "El Plantío          5\n",
       "El Pardo            4\n",
       "Fuentelareina       3\n",
       "Atalaya             3\n",
       "Name: neighbourhood, Length: 127, dtype: int64"
      ]
     },
     "execution_count": 5,
     "metadata": {},
     "output_type": "execute_result"
    }
   ],
   "source": [
    "data.neighbourhood.value_counts()"
   ]
  },
  {
   "cell_type": "code",
   "execution_count": 8,
   "metadata": {},
   "outputs": [],
   "source": [
    "lat = data.latitude.mean()\n",
    "long = data.longitude.mean()"
   ]
  },
  {
   "cell_type": "code",
   "execution_count": 9,
   "metadata": {},
   "outputs": [
    {
     "data": {
      "text/plain": [
       "-3.694500479915535"
      ]
     },
     "execution_count": 9,
     "metadata": {},
     "output_type": "execute_result"
    }
   ],
   "source": [
    "long"
   ]
  },
  {
   "cell_type": "code",
   "execution_count": 10,
   "metadata": {},
   "outputs": [],
   "source": [
    "madrid_map = folium.Map(location=[lat, long], zoom_start=11)"
   ]
  },
  {
   "cell_type": "code",
   "execution_count": 61,
   "metadata": {},
   "outputs": [],
   "source": [
    "madrid_price_mean = data.groupby('neighbourhood_group').mean().price.reset_index()\n",
    "madrid_price_median = data.groupby('neighbourhood_group').median().price.reset_index()"
   ]
  },
  {
   "cell_type": "code",
   "execution_count": 18,
   "metadata": {},
   "outputs": [
    {
     "data": {
      "text/html": [
       "<div>\n",
       "<style scoped>\n",
       "    .dataframe tbody tr th:only-of-type {\n",
       "        vertical-align: middle;\n",
       "    }\n",
       "\n",
       "    .dataframe tbody tr th {\n",
       "        vertical-align: top;\n",
       "    }\n",
       "\n",
       "    .dataframe thead th {\n",
       "        text-align: right;\n",
       "    }\n",
       "</style>\n",
       "<table border=\"1\" class=\"dataframe\">\n",
       "  <thead>\n",
       "    <tr style=\"text-align: right;\">\n",
       "      <th></th>\n",
       "      <th>neighbourhood_group</th>\n",
       "      <th>price</th>\n",
       "    </tr>\n",
       "  </thead>\n",
       "  <tbody>\n",
       "    <tr>\n",
       "      <th>0</th>\n",
       "      <td>Arganzuela</td>\n",
       "      <td>93.807315</td>\n",
       "    </tr>\n",
       "    <tr>\n",
       "      <th>1</th>\n",
       "      <td>Barajas</td>\n",
       "      <td>132.430303</td>\n",
       "    </tr>\n",
       "    <tr>\n",
       "      <th>2</th>\n",
       "      <td>Carabanchel</td>\n",
       "      <td>80.109145</td>\n",
       "    </tr>\n",
       "    <tr>\n",
       "      <th>3</th>\n",
       "      <td>Centro</td>\n",
       "      <td>129.875883</td>\n",
       "    </tr>\n",
       "    <tr>\n",
       "      <th>4</th>\n",
       "      <td>Chamartín</td>\n",
       "      <td>140.954628</td>\n",
       "    </tr>\n",
       "    <tr>\n",
       "      <th>5</th>\n",
       "      <td>Chamberí</td>\n",
       "      <td>124.414726</td>\n",
       "    </tr>\n",
       "    <tr>\n",
       "      <th>6</th>\n",
       "      <td>Ciudad Lineal</td>\n",
       "      <td>115.535073</td>\n",
       "    </tr>\n",
       "    <tr>\n",
       "      <th>7</th>\n",
       "      <td>Fuencarral - El Pardo</td>\n",
       "      <td>138.526667</td>\n",
       "    </tr>\n",
       "    <tr>\n",
       "      <th>8</th>\n",
       "      <td>Hortaleza</td>\n",
       "      <td>164.340361</td>\n",
       "    </tr>\n",
       "    <tr>\n",
       "      <th>9</th>\n",
       "      <td>Latina</td>\n",
       "      <td>125.724026</td>\n",
       "    </tr>\n",
       "    <tr>\n",
       "      <th>10</th>\n",
       "      <td>Moncloa - Aravaca</td>\n",
       "      <td>116.848708</td>\n",
       "    </tr>\n",
       "    <tr>\n",
       "      <th>11</th>\n",
       "      <td>Moratalaz</td>\n",
       "      <td>98.165354</td>\n",
       "    </tr>\n",
       "    <tr>\n",
       "      <th>12</th>\n",
       "      <td>Puente de Vallecas</td>\n",
       "      <td>85.739425</td>\n",
       "    </tr>\n",
       "    <tr>\n",
       "      <th>13</th>\n",
       "      <td>Retiro</td>\n",
       "      <td>116.487218</td>\n",
       "    </tr>\n",
       "    <tr>\n",
       "      <th>14</th>\n",
       "      <td>Salamanca</td>\n",
       "      <td>152.782545</td>\n",
       "    </tr>\n",
       "    <tr>\n",
       "      <th>15</th>\n",
       "      <td>San Blas - Canillejas</td>\n",
       "      <td>390.849237</td>\n",
       "    </tr>\n",
       "    <tr>\n",
       "      <th>16</th>\n",
       "      <td>Tetuán</td>\n",
       "      <td>160.779236</td>\n",
       "    </tr>\n",
       "    <tr>\n",
       "      <th>17</th>\n",
       "      <td>Usera</td>\n",
       "      <td>190.216066</td>\n",
       "    </tr>\n",
       "    <tr>\n",
       "      <th>18</th>\n",
       "      <td>Vicálvaro</td>\n",
       "      <td>160.169231</td>\n",
       "    </tr>\n",
       "    <tr>\n",
       "      <th>19</th>\n",
       "      <td>Villa de Vallecas</td>\n",
       "      <td>114.407767</td>\n",
       "    </tr>\n",
       "    <tr>\n",
       "      <th>20</th>\n",
       "      <td>Villaverde</td>\n",
       "      <td>65.409639</td>\n",
       "    </tr>\n",
       "  </tbody>\n",
       "</table>\n",
       "</div>"
      ],
      "text/plain": [
       "      neighbourhood_group       price\n",
       "0              Arganzuela   93.807315\n",
       "1                 Barajas  132.430303\n",
       "2             Carabanchel   80.109145\n",
       "3                  Centro  129.875883\n",
       "4               Chamartín  140.954628\n",
       "5                Chamberí  124.414726\n",
       "6           Ciudad Lineal  115.535073\n",
       "7   Fuencarral - El Pardo  138.526667\n",
       "8               Hortaleza  164.340361\n",
       "9                  Latina  125.724026\n",
       "10      Moncloa - Aravaca  116.848708\n",
       "11              Moratalaz   98.165354\n",
       "12     Puente de Vallecas   85.739425\n",
       "13                 Retiro  116.487218\n",
       "14              Salamanca  152.782545\n",
       "15  San Blas - Canillejas  390.849237\n",
       "16                 Tetuán  160.779236\n",
       "17                  Usera  190.216066\n",
       "18              Vicálvaro  160.169231\n",
       "19      Villa de Vallecas  114.407767\n",
       "20             Villaverde   65.409639"
      ]
     },
     "execution_count": 18,
     "metadata": {},
     "output_type": "execute_result"
    }
   ],
   "source": [
    "madrid_price"
   ]
  },
  {
   "cell_type": "code",
   "execution_count": null,
   "metadata": {},
   "outputs": [],
   "source": [
    "gj = \"neighbourhoods.geojson\"\n",
    "\n",
    "folium.Choropleth(\n",
    "    geo_data=gj,\n",
    "    name='choropleth',\n",
    "    data=madrid_price_median,\n",
    "    columns=['neighbourhood_group', 'price'],\n",
    "    key_on='feature.properties.neighbourhood_group',\n",
    "    fill_color='RdBu_r',\n",
    "    fill_opacity=0.7,\n",
    "    line_opacity=0.2,\n",
    "    legend = \"Median Price (Euro)\"\n",
    ").add_to(madrid_map)\n",
    "\n",
    "folium.LayerControl().add_to(madrid_map)\n",
    "\n",
    "madrid_map"
   ]
  },
  {
   "cell_type": "code",
   "execution_count": 64,
   "metadata": {},
   "outputs": [
    {
     "data": {
      "text/plain": [
       "Text(0.5, 1.0, 'Madrid AirBnB Price distribution')"
      ]
     },
     "execution_count": 64,
     "metadata": {},
     "output_type": "execute_result"
    },
    {
     "data": {
      "image/png": "[encoded data removed]",
      "text/plain": [
       "<Figure size 432x288 with 1 Axes>"
      ]
     },
     "metadata": {
      "needs_background": "light"
     },
     "output_type": "display_data"
    }
   ],
   "source": [
    "sns.kdeplot(data.price, shade=True, clip=(0, 1000))\n",
    "plt.title(\"Madrid AirBnB Price distribution\")"
   ]
  },
  {
   "cell_type": "code",
   "execution_count": 77,
   "metadata": {},
   "outputs": [
    {
     "data": {
      "text/plain": [
       "<matplotlib.axes._subplots.AxesSubplot at 0x120da0e48>"
      ]
     },
     "execution_count": 77,
     "metadata": {},
     "output_type": "execute_result"
    },
    {
     "data": {
      "image/png": "[encoded data removed]",
      "text/plain": [
       "<Figure size 432x288 with 1 Axes>"
      ]
     },
     "metadata": {
      "needs_background": "light"
     },
     "output_type": "display_data"
    }
   ],
   "source": [
    "sns.kdeplot(data.price, bw=2, shade=True, clip=(220, 1000))"
   ]
  },
  {
   "cell_type": "code",
   "execution_count": 90,
   "metadata": {},
   "outputs": [
    {
     "data": {
      "text/plain": [
       "236       78\n",
       "314       29\n",
       "389       28\n",
       "406      110\n",
       "477       30\n",
       "        ... \n",
       "20411     48\n",
       "20412     47\n",
       "20469     16\n",
       "20667     50\n",
       "20825     48\n",
       "Name: price, Length: 165, dtype: int64"
      ]
     },
     "execution_count": 90,
     "metadata": {},
     "output_type": "execute_result"
    }
   ],
   "source": [
    "data[data['neighbourhood_group']=='Barajas'].price"
   ]
  },
  {
   "cell_type": "code",
   "execution_count": null,
   "metadata": {},
   "outputs": [],
   "source": [
    "data['neighbourhood_group']=='Barajas'"
   ]
  },
  {
   "cell_type": "code",
   "execution_count": 96,
   "metadata": {},
   "outputs": [
    {
     "data": {
      "image/png": "[encoded data removed]",
      "text/plain": [
       "<Figure size 864x432 with 1 Axes>"
      ]
     },
     "metadata": {
      "needs_background": "light"
     },
     "output_type": "display_data"
    }
   ],
   "source": [
    "plt.figure(figsize=(12, 6))\n",
    "for i in data.neighbourhood_group.unique()[0:]:\n",
    "    sns.kdeplot(data[data['neighbourhood_group']==i].price, shade=True, clip=(0, 1000), label = i)"
   ]
  },
  {
   "cell_type": "code",
   "execution_count": 46,
   "metadata": {},
   "outputs": [
    {
     "data": {
      "text/plain": [
       "([<matplotlib.axis.XTick at 0x12042fb00>,\n",
       "  <matplotlib.axis.XTick at 0x12042fac8>,\n",
       "  <matplotlib.axis.XTick at 0x12041db38>],\n",
       " <a list of 3 Text major ticklabel objects>)"
      ]
     },
     "execution_count": 46,
     "metadata": {},
     "output_type": "execute_result"
    },
    {
     "data": {
      "image/png": "[encoded data removed]",
      "text/plain": [
       "<Figure size 864x432 with 1 Axes>"
      ]
     },
     "metadata": {
      "needs_background": "light"
     },
     "output_type": "display_data"
    }
   ],
   "source": [
    "plt.figure(figsize=(12, 6))\n",
    "sns.distplot(data['price'])\n",
    "plt.xticks(np.arange(data['price'].min(), data['price'].max(), step=4000))"
   ]
  },
  {
   "cell_type": "code",
   "execution_count": 47,
   "metadata": {},
   "outputs": [
    {
     "data": {
      "text/plain": [
       "([<matplotlib.axis.XTick at 0x120471f28>,\n",
       "  <matplotlib.axis.XTick at 0x120471ef0>,\n",
       "  <matplotlib.axis.XTick at 0x11fe93828>],\n",
       " <a list of 3 Text major ticklabel objects>)"
      ]
     },
     "execution_count": 47,
     "metadata": {},
     "output_type": "execute_result"
    },
    {
     "data": {
      "image/png": "[encoded data removed]",
      "text/plain": [
       "<Figure size 864x432 with 1 Axes>"
      ]
     },
     "metadata": {
      "needs_background": "light"
     },
     "output_type": "display_data"
    }
   ],
   "source": [
    "plt.figure(figsize=(12, 6))\n",
    "sns.boxplot(data['price'])\n",
    "plt.xticks(np.arange(data['price'].min(), data['price'].max(), step=4000))"
   ]
  },
  {
   "cell_type": "code",
   "execution_count": 83,
   "metadata": {},
   "outputs": [
    {
     "data": {
      "text/plain": [
       "<matplotlib.axes._subplots.AxesSubplot at 0x1212bdda0>"
      ]
     },
     "execution_count": 83,
     "metadata": {},
     "output_type": "execute_result"
    },
    {
     "data": {
      "image/png": "[encoded data removed]",
      "text/plain": [
       "<Figure size 720x504 with 2 Axes>"
      ]
     },
     "metadata": {
      "needs_background": "light"
     },
     "output_type": "display_data"
    }
   ],
   "source": [
    "d.plot(kind = 'scatter', x = 'longitude', y = 'latitude', alpha = 0.4,\n",
    "            s = d.number_of_reviews, c = 'price', label = 'Price', figsize = (10,7),\n",
    "            cmap = plt.get_cmap('jet'), colorbar = True)"
   ]
  },
  {
   "cell_type": "code",
   "execution_count": null,
   "metadata": {},
   "outputs": [],
   "source": []
  },
  {
   "cell_type": "code",
   "execution_count": 44,
   "metadata": {},
   "outputs": [
    {
     "data": {
      "text/plain": [
       "<matplotlib.axes._subplots.AxesSubplot at 0x11ef39f60>"
      ]
     },
     "execution_count": 44,
     "metadata": {},
     "output_type": "execute_result"
    },
    {
     "data": {
      "image/png": "[encoded data removed]",
      "text/plain": [
       "<Figure size 432x288 with 1 Axes>"
      ]
     },
     "metadata": {
      "needs_background": "light"
     },
     "output_type": "display_data"
    }
   ],
   "source": [
    "data.price.hist(bins = 50)"
   ]
  },
  {
   "cell_type": "code",
   "execution_count": 41,
   "metadata": {},
   "outputs": [
    {
     "data": {
      "text/plain": [
       "<matplotlib.axes._subplots.AxesSubplot at 0x11eb9e1d0>"
      ]
     },
     "execution_count": 41,
     "metadata": {},
     "output_type": "execute_result"
    },
    {
     "data": {
      "image/png": "[encoded data removed]",
      "text/plain": [
       "<Figure size 432x288 with 1 Axes>"
      ]
     },
     "metadata": {
      "needs_background": "light"
     },
     "output_type": "display_data"
    }
   ],
   "source": []
  },
  {
   "cell_type": "code",
   "execution_count": 52,
   "metadata": {},
   "outputs": [
    {
     "data": {
      "text/html": [
       "<div>\n",
       "<style scoped>\n",
       "    .dataframe tbody tr th:only-of-type {\n",
       "        vertical-align: middle;\n",
       "    }\n",
       "\n",
       "    .dataframe tbody tr th {\n",
       "        vertical-align: top;\n",
       "    }\n",
       "\n",
       "    .dataframe thead th {\n",
       "        text-align: right;\n",
       "    }\n",
       "</style>\n",
       "<table border=\"1\" class=\"dataframe\">\n",
       "  <thead>\n",
       "    <tr style=\"text-align: right;\">\n",
       "      <th></th>\n",
       "      <th>id</th>\n",
       "      <th>name</th>\n",
       "      <th>host_id</th>\n",
       "      <th>host_name</th>\n",
       "      <th>neighbourhood_group</th>\n",
       "      <th>neighbourhood</th>\n",
       "      <th>latitude</th>\n",
       "      <th>longitude</th>\n",
       "      <th>room_type</th>\n",
       "      <th>price</th>\n",
       "      <th>minimum_nights</th>\n",
       "      <th>number_of_reviews</th>\n",
       "      <th>last_review</th>\n",
       "      <th>reviews_per_month</th>\n",
       "      <th>calculated_host_listings_count</th>\n",
       "      <th>availability_365</th>\n",
       "    </tr>\n",
       "  </thead>\n",
       "  <tbody>\n",
       "    <tr>\n",
       "      <th>2043</th>\n",
       "      <td>6681279</td>\n",
       "      <td>Fantastico Piso Barrio de Salamanca</td>\n",
       "      <td>34972297</td>\n",
       "      <td>Juan Andres</td>\n",
       "      <td>Salamanca</td>\n",
       "      <td>Castellana</td>\n",
       "      <td>40.43447</td>\n",
       "      <td>-3.68226</td>\n",
       "      <td>Entire home/apt</td>\n",
       "      <td>1890</td>\n",
       "      <td>1</td>\n",
       "      <td>0</td>\n",
       "      <td>NaN</td>\n",
       "      <td>NaN</td>\n",
       "      <td>1</td>\n",
       "      <td>0</td>\n",
       "    </tr>\n",
       "    <tr>\n",
       "      <th>4236</th>\n",
       "      <td>13750696</td>\n",
       "      <td>Apartamento en el centro!!\\nGay friendly!!</td>\n",
       "      <td>8275478</td>\n",
       "      <td>Alberto</td>\n",
       "      <td>Centro</td>\n",
       "      <td>Universidad</td>\n",
       "      <td>40.42952</td>\n",
       "      <td>-3.71043</td>\n",
       "      <td>Entire home/apt</td>\n",
       "      <td>1200</td>\n",
       "      <td>1</td>\n",
       "      <td>1</td>\n",
       "      <td>2016-06-29</td>\n",
       "      <td>0.03</td>\n",
       "      <td>1</td>\n",
       "      <td>0</td>\n",
       "    </tr>\n",
       "    <tr>\n",
       "      <th>4813</th>\n",
       "      <td>15203472</td>\n",
       "      <td>Luminous apt in the heart of Madrid :)</td>\n",
       "      <td>1225360</td>\n",
       "      <td>Pablo</td>\n",
       "      <td>Arganzuela</td>\n",
       "      <td>Delicias</td>\n",
       "      <td>40.39569</td>\n",
       "      <td>-3.69496</td>\n",
       "      <td>Entire home/apt</td>\n",
       "      <td>8465</td>\n",
       "      <td>2</td>\n",
       "      <td>0</td>\n",
       "      <td>NaN</td>\n",
       "      <td>NaN</td>\n",
       "      <td>1</td>\n",
       "      <td>0</td>\n",
       "    </tr>\n",
       "    <tr>\n",
       "      <th>6789</th>\n",
       "      <td>18942744</td>\n",
       "      <td>Habitación</td>\n",
       "      <td>132052020</td>\n",
       "      <td>Sofia</td>\n",
       "      <td>Salamanca</td>\n",
       "      <td>Lista</td>\n",
       "      <td>40.43339</td>\n",
       "      <td>-3.67547</td>\n",
       "      <td>Private room</td>\n",
       "      <td>1788</td>\n",
       "      <td>50</td>\n",
       "      <td>0</td>\n",
       "      <td>NaN</td>\n",
       "      <td>NaN</td>\n",
       "      <td>1</td>\n",
       "      <td>363</td>\n",
       "    </tr>\n",
       "    <tr>\n",
       "      <th>7226</th>\n",
       "      <td>19382446</td>\n",
       "      <td>House with terrace in Alonso Martinez, Madrid.</td>\n",
       "      <td>9863470</td>\n",
       "      <td>Enrique</td>\n",
       "      <td>Chamberí</td>\n",
       "      <td>Trafalgar</td>\n",
       "      <td>40.42906</td>\n",
       "      <td>-3.69894</td>\n",
       "      <td>Private room</td>\n",
       "      <td>1200</td>\n",
       "      <td>2</td>\n",
       "      <td>0</td>\n",
       "      <td>NaN</td>\n",
       "      <td>NaN</td>\n",
       "      <td>1</td>\n",
       "      <td>0</td>\n",
       "    </tr>\n",
       "    <tr>\n",
       "      <th>...</th>\n",
       "      <td>...</td>\n",
       "      <td>...</td>\n",
       "      <td>...</td>\n",
       "      <td>...</td>\n",
       "      <td>...</td>\n",
       "      <td>...</td>\n",
       "      <td>...</td>\n",
       "      <td>...</td>\n",
       "      <td>...</td>\n",
       "      <td>...</td>\n",
       "      <td>...</td>\n",
       "      <td>...</td>\n",
       "      <td>...</td>\n",
       "      <td>...</td>\n",
       "      <td>...</td>\n",
       "      <td>...</td>\n",
       "    </tr>\n",
       "    <tr>\n",
       "      <th>20479</th>\n",
       "      <td>38224838</td>\n",
       "      <td>Dúplex en calle de Santoña cerca de Rafael Ybarra</td>\n",
       "      <td>206349691</td>\n",
       "      <td>Mike</td>\n",
       "      <td>Usera</td>\n",
       "      <td>Zofío</td>\n",
       "      <td>40.38234</td>\n",
       "      <td>-3.71170</td>\n",
       "      <td>Entire home/apt</td>\n",
       "      <td>1262</td>\n",
       "      <td>1</td>\n",
       "      <td>0</td>\n",
       "      <td>NaN</td>\n",
       "      <td>NaN</td>\n",
       "      <td>124</td>\n",
       "      <td>274</td>\n",
       "    </tr>\n",
       "    <tr>\n",
       "      <th>20528</th>\n",
       "      <td>38306703</td>\n",
       "      <td>Exterior apartment with A/C near Rafaela Ibarr...</td>\n",
       "      <td>206349691</td>\n",
       "      <td>Mike</td>\n",
       "      <td>Usera</td>\n",
       "      <td>Zofío</td>\n",
       "      <td>40.38231</td>\n",
       "      <td>-3.71324</td>\n",
       "      <td>Entire home/apt</td>\n",
       "      <td>1262</td>\n",
       "      <td>1</td>\n",
       "      <td>0</td>\n",
       "      <td>NaN</td>\n",
       "      <td>NaN</td>\n",
       "      <td>124</td>\n",
       "      <td>350</td>\n",
       "    </tr>\n",
       "    <tr>\n",
       "      <th>20549</th>\n",
       "      <td>38337417</td>\n",
       "      <td>Exterior Facing Studio With Bay Window &amp; A/C (...</td>\n",
       "      <td>206349691</td>\n",
       "      <td>Mike</td>\n",
       "      <td>Chamberí</td>\n",
       "      <td>Trafalgar</td>\n",
       "      <td>40.42940</td>\n",
       "      <td>-3.70005</td>\n",
       "      <td>Entire home/apt</td>\n",
       "      <td>1262</td>\n",
       "      <td>1</td>\n",
       "      <td>0</td>\n",
       "      <td>NaN</td>\n",
       "      <td>NaN</td>\n",
       "      <td>124</td>\n",
       "      <td>248</td>\n",
       "    </tr>\n",
       "    <tr>\n",
       "      <th>20710</th>\n",
       "      <td>38590623</td>\n",
       "      <td>Duplex near Rafaela Ibarra with A/C (SANB3)</td>\n",
       "      <td>206349691</td>\n",
       "      <td>Mike</td>\n",
       "      <td>Usera</td>\n",
       "      <td>Zofío</td>\n",
       "      <td>40.38293</td>\n",
       "      <td>-3.71248</td>\n",
       "      <td>Entire home/apt</td>\n",
       "      <td>1262</td>\n",
       "      <td>1</td>\n",
       "      <td>0</td>\n",
       "      <td>NaN</td>\n",
       "      <td>NaN</td>\n",
       "      <td>124</td>\n",
       "      <td>365</td>\n",
       "    </tr>\n",
       "    <tr>\n",
       "      <th>20711</th>\n",
       "      <td>38590725</td>\n",
       "      <td>Duplex near Rafaela Ibarra with A/C (SANB6)</td>\n",
       "      <td>206349691</td>\n",
       "      <td>Mike</td>\n",
       "      <td>Usera</td>\n",
       "      <td>Zofío</td>\n",
       "      <td>40.38109</td>\n",
       "      <td>-3.71194</td>\n",
       "      <td>Entire home/apt</td>\n",
       "      <td>1262</td>\n",
       "      <td>1</td>\n",
       "      <td>0</td>\n",
       "      <td>NaN</td>\n",
       "      <td>NaN</td>\n",
       "      <td>124</td>\n",
       "      <td>365</td>\n",
       "    </tr>\n",
       "  </tbody>\n",
       "</table>\n",
       "<p>313 rows × 16 columns</p>\n",
       "</div>"
      ],
      "text/plain": [
       "             id                                               name    host_id  \\\n",
       "2043    6681279                Fantastico Piso Barrio de Salamanca   34972297   \n",
       "4236   13750696         Apartamento en el centro!!\\nGay friendly!!    8275478   \n",
       "4813   15203472             Luminous apt in the heart of Madrid :)    1225360   \n",
       "6789   18942744                                         Habitación  132052020   \n",
       "7226   19382446     House with terrace in Alonso Martinez, Madrid.    9863470   \n",
       "...         ...                                                ...        ...   \n",
       "20479  38224838  Dúplex en calle de Santoña cerca de Rafael Ybarra  206349691   \n",
       "20528  38306703  Exterior apartment with A/C near Rafaela Ibarr...  206349691   \n",
       "20549  38337417  Exterior Facing Studio With Bay Window & A/C (...  206349691   \n",
       "20710  38590623        Duplex near Rafaela Ibarra with A/C (SANB3)  206349691   \n",
       "20711  38590725        Duplex near Rafaela Ibarra with A/C (SANB6)  206349691   \n",
       "\n",
       "         host_name neighbourhood_group neighbourhood  latitude  longitude  \\\n",
       "2043   Juan Andres           Salamanca    Castellana  40.43447   -3.68226   \n",
       "4236       Alberto              Centro   Universidad  40.42952   -3.71043   \n",
       "4813         Pablo          Arganzuela      Delicias  40.39569   -3.69496   \n",
       "6789         Sofia           Salamanca         Lista  40.43339   -3.67547   \n",
       "7226       Enrique            Chamberí     Trafalgar  40.42906   -3.69894   \n",
       "...            ...                 ...           ...       ...        ...   \n",
       "20479         Mike               Usera         Zofío  40.38234   -3.71170   \n",
       "20528         Mike               Usera         Zofío  40.38231   -3.71324   \n",
       "20549         Mike            Chamberí     Trafalgar  40.42940   -3.70005   \n",
       "20710         Mike               Usera         Zofío  40.38293   -3.71248   \n",
       "20711         Mike               Usera         Zofío  40.38109   -3.71194   \n",
       "\n",
       "             room_type  price  minimum_nights  number_of_reviews last_review  \\\n",
       "2043   Entire home/apt   1890               1                  0         NaN   \n",
       "4236   Entire home/apt   1200               1                  1  2016-06-29   \n",
       "4813   Entire home/apt   8465               2                  0         NaN   \n",
       "6789      Private room   1788              50                  0         NaN   \n",
       "7226      Private room   1200               2                  0         NaN   \n",
       "...                ...    ...             ...                ...         ...   \n",
       "20479  Entire home/apt   1262               1                  0         NaN   \n",
       "20528  Entire home/apt   1262               1                  0         NaN   \n",
       "20549  Entire home/apt   1262               1                  0         NaN   \n",
       "20710  Entire home/apt   1262               1                  0         NaN   \n",
       "20711  Entire home/apt   1262               1                  0         NaN   \n",
       "\n",
       "       reviews_per_month  calculated_host_listings_count  availability_365  \n",
       "2043                 NaN                               1                 0  \n",
       "4236                0.03                               1                 0  \n",
       "4813                 NaN                               1                 0  \n",
       "6789                 NaN                               1               363  \n",
       "7226                 NaN                               1                 0  \n",
       "...                  ...                             ...               ...  \n",
       "20479                NaN                             124               274  \n",
       "20528                NaN                             124               350  \n",
       "20549                NaN                             124               248  \n",
       "20710                NaN                             124               365  \n",
       "20711                NaN                             124               365  \n",
       "\n",
       "[313 rows x 16 columns]"
      ]
     },
     "execution_count": 52,
     "metadata": {},
     "output_type": "execute_result"
    }
   ],
   "source": [
    "data[data['price']>1000]"
   ]
  },
  {
   "cell_type": "code",
   "execution_count": 177,
   "metadata": {},
   "outputs": [
    {
     "data": {
      "text/plain": [
       "21"
      ]
     },
     "execution_count": 177,
     "metadata": {},
     "output_type": "execute_result"
    }
   ],
   "source": [
    "data['neighbourhood_group'].nunique()"
   ]
  },
  {
   "cell_type": "code",
   "execution_count": 176,
   "metadata": {},
   "outputs": [
    {
     "data": {
      "text/plain": [
       "<matplotlib.axes._subplots.AxesSubplot at 0x134617da0>"
      ]
     },
     "execution_count": 176,
     "metadata": {},
     "output_type": "execute_result"
    },
    {
     "data": {
      "image/png": "[encoded data removed]",
      "text/plain": [
       "<Figure size 1008x576 with 1 Axes>"
      ]
     },
     "metadata": {
      "needs_background": "light"
     },
     "output_type": "display_data"
    }
   ],
   "source": [
    "plt.figure(figsize=(14, 8))\n",
    "sns.boxplot(x=data['neighbourhood_group'], y=data['price'])"
   ]
  },
  {
   "cell_type": "code",
   "execution_count": 186,
   "metadata": {},
   "outputs": [],
   "source": [
    "def box_plot():\n",
    "    plt.figure(figsize=(18, 11))\n",
    "    k = 1\n",
    "    for i in data['neighbourhood_group'].unique()[0:6]:\n",
    "        plt.subplot(2, 3, k)\n",
    "        plt.title(i)\n",
    "        df = data[data['neighbourhood_group'] == i]\n",
    "        sns.boxplot(df['price'])\n",
    "        plt.xticks(np.arange(df['price'].min(), df['price'].max(), step=500))\n",
    "        k += 1"
   ]
  },
  {
   "cell_type": "code",
   "execution_count": 187,
   "metadata": {},
   "outputs": [
    {
     "data": {
      "image/png": "[encoded data removed]",
      "text/plain": [
       "<Figure size 1296x792 with 6 Axes>"
      ]
     },
     "metadata": {
      "needs_background": "light"
     },
     "output_type": "display_data"
    }
   ],
   "source": [
    "box_plot()"
   ]
  },
  {
   "cell_type": "code",
   "execution_count": null,
   "metadata": {},
   "outputs": [],
   "source": []
  },
  {
   "cell_type": "code",
   "execution_count": null,
   "metadata": {},
   "outputs": [],
   "source": []
  },
  {
   "cell_type": "code",
   "execution_count": null,
   "metadata": {},
   "outputs": [],
   "source": []
  },
  {
   "cell_type": "code",
   "execution_count": null,
   "metadata": {},
   "outputs": [],
   "source": []
  },
  {
   "cell_type": "code",
   "execution_count": null,
   "metadata": {},
   "outputs": [],
   "source": []
  },
  {
   "cell_type": "code",
   "execution_count": 82,
   "metadata": {},
   "outputs": [
    {
     "data": {
      "text/plain": [
       "<matplotlib.axes._subplots.AxesSubplot at 0x121237080>"
      ]
     },
     "execution_count": 82,
     "metadata": {},
     "output_type": "execute_result"
    },
    {
     "data": {
      "image/png": "[encoded data removed]",
      "text/plain": [
       "<Figure size 432x288 with 1 Axes>"
      ]
     },
     "metadata": {
      "needs_background": "light"
     },
     "output_type": "display_data"
    }
   ],
   "source": [
    "data.groupby('neighbourhood_group').agg('count').id.plot(kind='bar')"
   ]
  },
  {
   "cell_type": "code",
   "execution_count": null,
   "metadata": {},
   "outputs": [],
   "source": []
  },
  {
   "cell_type": "code",
   "execution_count": 105,
   "metadata": {},
   "outputs": [
    {
     "data": {
      "text/html": [
       "<div>\n",
       "<style scoped>\n",
       "    .dataframe tbody tr th:only-of-type {\n",
       "        vertical-align: middle;\n",
       "    }\n",
       "\n",
       "    .dataframe tbody tr th {\n",
       "        vertical-align: top;\n",
       "    }\n",
       "\n",
       "    .dataframe thead th {\n",
       "        text-align: right;\n",
       "    }\n",
       "</style>\n",
       "<table border=\"1\" class=\"dataframe\">\n",
       "  <thead>\n",
       "    <tr style=\"text-align: right;\">\n",
       "      <th></th>\n",
       "      <th>latitude</th>\n",
       "      <th>longitude</th>\n",
       "      <th>neighbourhood_group</th>\n",
       "      <th>price</th>\n",
       "    </tr>\n",
       "  </thead>\n",
       "  <tbody>\n",
       "    <tr>\n",
       "      <th>1</th>\n",
       "      <td>40.40341</td>\n",
       "      <td>-3.74084</td>\n",
       "      <td>Latina</td>\n",
       "      <td>17</td>\n",
       "    </tr>\n",
       "    <tr>\n",
       "      <th>4</th>\n",
       "      <td>40.38985</td>\n",
       "      <td>-3.69011</td>\n",
       "      <td>Arganzuela</td>\n",
       "      <td>25</td>\n",
       "    </tr>\n",
       "    <tr>\n",
       "      <th>24</th>\n",
       "      <td>40.42462</td>\n",
       "      <td>-3.70352</td>\n",
       "      <td>Centro</td>\n",
       "      <td>32</td>\n",
       "    </tr>\n",
       "    <tr>\n",
       "      <th>25</th>\n",
       "      <td>40.45559</td>\n",
       "      <td>-3.69421</td>\n",
       "      <td>Tetuán</td>\n",
       "      <td>25</td>\n",
       "    </tr>\n",
       "    <tr>\n",
       "      <th>28</th>\n",
       "      <td>40.43331</td>\n",
       "      <td>-3.64355</td>\n",
       "      <td>Ciudad Lineal</td>\n",
       "      <td>20</td>\n",
       "    </tr>\n",
       "    <tr>\n",
       "      <th>...</th>\n",
       "      <td>...</td>\n",
       "      <td>...</td>\n",
       "      <td>...</td>\n",
       "      <td>...</td>\n",
       "    </tr>\n",
       "    <tr>\n",
       "      <th>20823</th>\n",
       "      <td>40.49417</td>\n",
       "      <td>-3.69383</td>\n",
       "      <td>Fuencarral - El Pardo</td>\n",
       "      <td>35</td>\n",
       "    </tr>\n",
       "    <tr>\n",
       "      <th>20828</th>\n",
       "      <td>40.37534</td>\n",
       "      <td>-3.77340</td>\n",
       "      <td>Latina</td>\n",
       "      <td>20</td>\n",
       "    </tr>\n",
       "    <tr>\n",
       "      <th>20829</th>\n",
       "      <td>40.42727</td>\n",
       "      <td>-3.65315</td>\n",
       "      <td>Ciudad Lineal</td>\n",
       "      <td>22</td>\n",
       "    </tr>\n",
       "    <tr>\n",
       "      <th>20831</th>\n",
       "      <td>40.42483</td>\n",
       "      <td>-3.71172</td>\n",
       "      <td>Centro</td>\n",
       "      <td>23</td>\n",
       "    </tr>\n",
       "    <tr>\n",
       "      <th>20833</th>\n",
       "      <td>40.38533</td>\n",
       "      <td>-3.63968</td>\n",
       "      <td>Puente de Vallecas</td>\n",
       "      <td>24</td>\n",
       "    </tr>\n",
       "  </tbody>\n",
       "</table>\n",
       "<p>5144 rows × 4 columns</p>\n",
       "</div>"
      ],
      "text/plain": [
       "       latitude  longitude    neighbourhood_group  price\n",
       "1      40.40341   -3.74084                 Latina     17\n",
       "4      40.38985   -3.69011             Arganzuela     25\n",
       "24     40.42462   -3.70352                 Centro     32\n",
       "25     40.45559   -3.69421                 Tetuán     25\n",
       "28     40.43331   -3.64355          Ciudad Lineal     20\n",
       "...         ...        ...                    ...    ...\n",
       "20823  40.49417   -3.69383  Fuencarral - El Pardo     35\n",
       "20828  40.37534   -3.77340                 Latina     20\n",
       "20829  40.42727   -3.65315          Ciudad Lineal     22\n",
       "20831  40.42483   -3.71172                 Centro     23\n",
       "20833  40.38533   -3.63968     Puente de Vallecas     24\n",
       "\n",
       "[5144 rows x 4 columns]"
      ]
     },
     "execution_count": 105,
     "metadata": {},
     "output_type": "execute_result"
    }
   ],
   "source": [
    "data[['latitude', 'longitude', 'neighbourhood_group', 'price']].query(\"price < 40\")"
   ]
  },
  {
   "cell_type": "code",
   "execution_count": null,
   "metadata": {},
   "outputs": [],
   "source": []
  },
  {
   "cell_type": "code",
   "execution_count": 118,
   "metadata": {},
   "outputs": [],
   "source": [
    "map_1 = folium.Map(location=[lat, long], zoom_start=12, )\n",
    "\n",
    "for index, row in data[['latitude', 'longitude', 'neighbourhood_group', 'price']].query(\"price < 40\").iterrows():\n",
    "    label = folium.Popup(f'{row[\"price\"]:.2f} euro')\n",
    "    folium.CircleMarker(\n",
    "        [row[\"latitude\"], row[\"longitude\"]],\n",
    "        radius=5,\n",
    "        popup=label,\n",
    "        color=\"green\",\n",
    "        fill=True,\n",
    "        fill_color=\"green\",\n",
    "        fill_opacity=0.7,\n",
    "        parse_html=False).add_to(map_1)  \n",
    "for index, row in data[['latitude', 'longitude', 'neighbourhood_group', 'price']].query(\"price > 1000\").iterrows():\n",
    "    label = folium.Popup(f'{row[\"price\"]:.2f} euro')\n",
    "    folium.CircleMarker(\n",
    "        [row[\"latitude\"], row[\"longitude\"]],\n",
    "        radius=5,\n",
    "        popup=label,\n",
    "        color=\"black\",\n",
    "        fill=True,\n",
    "        fill_color=\"red\",\n",
    "        fill_opacity=0.7,\n",
    "        parse_html=False).add_to(map_1)"
   ]
  },
  {
   "cell_type": "code",
   "execution_count": null,
   "metadata": {},
   "outputs": [],
   "source": [
    "box_plot()"
   ]
  },
  {
   "cell_type": "code",
   "execution_count": 123,
   "metadata": {},
   "outputs": [
    {
     "data": {
      "text/plain": [
       "Text(0.5, 1.0, 'AirBnB Price per Room Type')"
      ]
     },
     "execution_count": 123,
     "metadata": {},
     "output_type": "execute_result"
    },
    {
     "data": {
      "image/png": "[encoded data removed]",
      "text/plain": [
       "<Figure size 432x288 with 1 Axes>"
      ]
     },
     "metadata": {
      "needs_background": "light"
     },
     "output_type": "display_data"
    }
   ],
   "source": [
    "for room in data.room_type.unique():\n",
    "    sns.kdeplot(data[data.room_type==room].price, shade=False, clip=(0, 200), Label=room)\n",
    "  \n",
    "plt.xlabel('Price') \n",
    "plt.ylabel('Probability Density') \n",
    "plt.title('AirBnB Price per Room Type')"
   ]
  },
  {
   "cell_type": "code",
   "execution_count": 124,
   "metadata": {},
   "outputs": [
    {
     "data": {
      "text/plain": [
       "<matplotlib.axes._subplots.AxesSubplot at 0x1316c9e10>"
      ]
     },
     "execution_count": 124,
     "metadata": {},
     "output_type": "execute_result"
    },
    {
     "data": {
      "image/png": "[encoded data removed]",
      "text/plain": [
       "<Figure size 432x288 with 1 Axes>"
      ]
     },
     "metadata": {
      "needs_background": "light"
     },
     "output_type": "display_data"
    }
   ],
   "source": [
    "data.groupby('room_type').agg('count').id.plot(kind='bar')"
   ]
  },
  {
   "cell_type": "code",
   "execution_count": 188,
   "metadata": {},
   "outputs": [],
   "source": [
    "n_group = data.groupby('neighbourhood_group')['price']"
   ]
  },
  {
   "cell_type": "code",
   "execution_count": 189,
   "metadata": {},
   "outputs": [],
   "source": [
    "# Quantile 1 = 25% of data\n",
    "Q1 = n_group.quantile(.25)\n",
    "Q3 = n_group.quantile(.75)"
   ]
  },
  {
   "cell_type": "code",
   "execution_count": 192,
   "metadata": {},
   "outputs": [],
   "source": [
    "# IQR = Interquartile Range\n",
    "IQR = Q3 - Q1\n",
    "\n",
    "# Limits\n",
    "lower = Q1 - 1.5 * IQR\n",
    "upper = Q3 + 1.5 * IQR"
   ]
  },
  {
   "cell_type": "code",
   "execution_count": 210,
   "metadata": {},
   "outputs": [],
   "source": [
    "new_df = pd.DataFrame()\n",
    "\n",
    "for i in n_group.groups.keys():\n",
    "    hood = data['neighbourhood_group'] == i\n",
    "    accepted_limit = (\n",
    "                    (data['price']>=lower[i]) & (data['price']<=upper[i])\n",
    "                    )\n",
    "    selected = hood & accepted_limit\n",
    "    selected_df = data[selected]\n",
    "    new_df = pd.concat([new_df, selected_df])"
   ]
  },
  {
   "cell_type": "code",
   "execution_count": 211,
   "metadata": {},
   "outputs": [
    {
     "data": {
      "text/html": [
       "<div>\n",
       "<style scoped>\n",
       "    .dataframe tbody tr th:only-of-type {\n",
       "        vertical-align: middle;\n",
       "    }\n",
       "\n",
       "    .dataframe tbody tr th {\n",
       "        vertical-align: top;\n",
       "    }\n",
       "\n",
       "    .dataframe thead th {\n",
       "        text-align: right;\n",
       "    }\n",
       "</style>\n",
       "<table border=\"1\" class=\"dataframe\">\n",
       "  <thead>\n",
       "    <tr style=\"text-align: right;\">\n",
       "      <th></th>\n",
       "      <th>neighbourhood_group</th>\n",
       "      <th>latitude</th>\n",
       "      <th>longitude</th>\n",
       "      <th>room_type</th>\n",
       "      <th>price</th>\n",
       "      <th>minimum_nights</th>\n",
       "      <th>number_of_reviews</th>\n",
       "      <th>reviews_per_month</th>\n",
       "      <th>calculated_host_listings_count</th>\n",
       "      <th>availability_365</th>\n",
       "      <th>cancellation_policy</th>\n",
       "    </tr>\n",
       "  </thead>\n",
       "  <tbody>\n",
       "    <tr>\n",
       "      <th>4</th>\n",
       "      <td>Arganzuela</td>\n",
       "      <td>40.38985</td>\n",
       "      <td>-3.69011</td>\n",
       "      <td>Private room</td>\n",
       "      <td>25</td>\n",
       "      <td>2</td>\n",
       "      <td>136</td>\n",
       "      <td>1.19</td>\n",
       "      <td>1</td>\n",
       "      <td>337</td>\n",
       "      <td>strict_14_with_grace_period</td>\n",
       "    </tr>\n",
       "    <tr>\n",
       "      <th>111</th>\n",
       "      <td>Arganzuela</td>\n",
       "      <td>40.39548</td>\n",
       "      <td>-3.69392</td>\n",
       "      <td>Entire home/apt</td>\n",
       "      <td>115</td>\n",
       "      <td>2</td>\n",
       "      <td>42</td>\n",
       "      <td>1.94</td>\n",
       "      <td>5</td>\n",
       "      <td>55</td>\n",
       "      <td>moderate</td>\n",
       "    </tr>\n",
       "    <tr>\n",
       "      <th>122</th>\n",
       "      <td>Arganzuela</td>\n",
       "      <td>40.40522</td>\n",
       "      <td>-3.69454</td>\n",
       "      <td>Entire home/apt</td>\n",
       "      <td>65</td>\n",
       "      <td>3</td>\n",
       "      <td>30</td>\n",
       "      <td>0.36</td>\n",
       "      <td>1</td>\n",
       "      <td>137</td>\n",
       "      <td>moderate</td>\n",
       "    </tr>\n",
       "    <tr>\n",
       "      <th>136</th>\n",
       "      <td>Arganzuela</td>\n",
       "      <td>40.40266</td>\n",
       "      <td>-3.70374</td>\n",
       "      <td>Private room</td>\n",
       "      <td>24</td>\n",
       "      <td>6</td>\n",
       "      <td>137</td>\n",
       "      <td>1.59</td>\n",
       "      <td>4</td>\n",
       "      <td>227</td>\n",
       "      <td>strict_14_with_grace_period</td>\n",
       "    </tr>\n",
       "    <tr>\n",
       "      <th>139</th>\n",
       "      <td>Arganzuela</td>\n",
       "      <td>40.40442</td>\n",
       "      <td>-3.69256</td>\n",
       "      <td>Entire home/apt</td>\n",
       "      <td>70</td>\n",
       "      <td>5</td>\n",
       "      <td>28</td>\n",
       "      <td>0.31</td>\n",
       "      <td>1</td>\n",
       "      <td>140</td>\n",
       "      <td>moderate</td>\n",
       "    </tr>\n",
       "    <tr>\n",
       "      <th>...</th>\n",
       "      <td>...</td>\n",
       "      <td>...</td>\n",
       "      <td>...</td>\n",
       "      <td>...</td>\n",
       "      <td>...</td>\n",
       "      <td>...</td>\n",
       "      <td>...</td>\n",
       "      <td>...</td>\n",
       "      <td>...</td>\n",
       "      <td>...</td>\n",
       "      <td>...</td>\n",
       "    </tr>\n",
       "    <tr>\n",
       "      <th>20683</th>\n",
       "      <td>Villaverde</td>\n",
       "      <td>40.32252</td>\n",
       "      <td>-3.66562</td>\n",
       "      <td>Private room</td>\n",
       "      <td>22</td>\n",
       "      <td>1</td>\n",
       "      <td>1</td>\n",
       "      <td>1.00</td>\n",
       "      <td>1</td>\n",
       "      <td>174</td>\n",
       "      <td>flexible</td>\n",
       "    </tr>\n",
       "    <tr>\n",
       "      <th>20753</th>\n",
       "      <td>Villaverde</td>\n",
       "      <td>40.32093</td>\n",
       "      <td>-3.70369</td>\n",
       "      <td>Private room</td>\n",
       "      <td>57</td>\n",
       "      <td>3</td>\n",
       "      <td>0</td>\n",
       "      <td>NaN</td>\n",
       "      <td>1</td>\n",
       "      <td>3</td>\n",
       "      <td>flexible</td>\n",
       "    </tr>\n",
       "    <tr>\n",
       "      <th>20764</th>\n",
       "      <td>Villaverde</td>\n",
       "      <td>40.36001</td>\n",
       "      <td>-3.69004</td>\n",
       "      <td>Private room</td>\n",
       "      <td>25</td>\n",
       "      <td>1</td>\n",
       "      <td>0</td>\n",
       "      <td>NaN</td>\n",
       "      <td>3</td>\n",
       "      <td>353</td>\n",
       "      <td>flexible</td>\n",
       "    </tr>\n",
       "    <tr>\n",
       "      <th>20807</th>\n",
       "      <td>Villaverde</td>\n",
       "      <td>40.31948</td>\n",
       "      <td>-3.70278</td>\n",
       "      <td>Private room</td>\n",
       "      <td>15</td>\n",
       "      <td>2</td>\n",
       "      <td>1</td>\n",
       "      <td>1.00</td>\n",
       "      <td>1</td>\n",
       "      <td>31</td>\n",
       "      <td>flexible</td>\n",
       "    </tr>\n",
       "    <tr>\n",
       "      <th>20821</th>\n",
       "      <td>Villaverde</td>\n",
       "      <td>40.35353</td>\n",
       "      <td>-3.69552</td>\n",
       "      <td>Private room</td>\n",
       "      <td>15</td>\n",
       "      <td>1</td>\n",
       "      <td>0</td>\n",
       "      <td>NaN</td>\n",
       "      <td>1</td>\n",
       "      <td>79</td>\n",
       "      <td>flexible</td>\n",
       "    </tr>\n",
       "  </tbody>\n",
       "</table>\n",
       "<p>18714 rows × 11 columns</p>\n",
       "</div>"
      ],
      "text/plain": [
       "      neighbourhood_group  latitude  longitude        room_type  price  \\\n",
       "4              Arganzuela  40.38985   -3.69011     Private room     25   \n",
       "111            Arganzuela  40.39548   -3.69392  Entire home/apt    115   \n",
       "122            Arganzuela  40.40522   -3.69454  Entire home/apt     65   \n",
       "136            Arganzuela  40.40266   -3.70374     Private room     24   \n",
       "139            Arganzuela  40.40442   -3.69256  Entire home/apt     70   \n",
       "...                   ...       ...        ...              ...    ...   \n",
       "20683          Villaverde  40.32252   -3.66562     Private room     22   \n",
       "20753          Villaverde  40.32093   -3.70369     Private room     57   \n",
       "20764          Villaverde  40.36001   -3.69004     Private room     25   \n",
       "20807          Villaverde  40.31948   -3.70278     Private room     15   \n",
       "20821          Villaverde  40.35353   -3.69552     Private room     15   \n",
       "\n",
       "       minimum_nights  number_of_reviews  reviews_per_month  \\\n",
       "4                   2                136               1.19   \n",
       "111                 2                 42               1.94   \n",
       "122                 3                 30               0.36   \n",
       "136                 6                137               1.59   \n",
       "139                 5                 28               0.31   \n",
       "...               ...                ...                ...   \n",
       "20683               1                  1               1.00   \n",
       "20753               3                  0                NaN   \n",
       "20764               1                  0                NaN   \n",
       "20807               2                  1               1.00   \n",
       "20821               1                  0                NaN   \n",
       "\n",
       "       calculated_host_listings_count  availability_365  \\\n",
       "4                                   1               337   \n",
       "111                                 5                55   \n",
       "122                                 1               137   \n",
       "136                                 4               227   \n",
       "139                                 1               140   \n",
       "...                               ...               ...   \n",
       "20683                               1               174   \n",
       "20753                               1                 3   \n",
       "20764                               3               353   \n",
       "20807                               1                31   \n",
       "20821                               1                79   \n",
       "\n",
       "               cancellation_policy  \n",
       "4      strict_14_with_grace_period  \n",
       "111                       moderate  \n",
       "122                       moderate  \n",
       "136    strict_14_with_grace_period  \n",
       "139                       moderate  \n",
       "...                            ...  \n",
       "20683                     flexible  \n",
       "20753                     flexible  \n",
       "20764                     flexible  \n",
       "20807                     flexible  \n",
       "20821                     flexible  \n",
       "\n",
       "[18714 rows x 11 columns]"
      ]
     },
     "execution_count": 211,
     "metadata": {},
     "output_type": "execute_result"
    }
   ],
   "source": [
    "new_df"
   ]
  },
  {
   "cell_type": "code",
   "execution_count": 216,
   "metadata": {},
   "outputs": [
    {
     "data": {
      "text/plain": [
       "1100"
      ]
     },
     "execution_count": 216,
     "metadata": {},
     "output_type": "execute_result"
    }
   ],
   "source": [
    "new_df.price.max()"
   ]
  },
  {
   "cell_type": "code",
   "execution_count": 224,
   "metadata": {},
   "outputs": [],
   "source": [
    "def box_plot():\n",
    "    plt.figure(figsize=(18, 11))\n",
    "    k = 1\n",
    "    for i in new_df['neighbourhood_group'].unique()[13:19]:\n",
    "        plt.subplot(2, 3, k)\n",
    "        plt.title(i)\n",
    "        df = data[data['neighbourhood_group'] == i]\n",
    "        sns.boxplot(df['price'])\n",
    "        plt.xticks(np.arange(df['price'].min(), df['price'].max(), step=500))\n",
    "        k += 1"
   ]
  },
  {
   "cell_type": "code",
   "execution_count": 231,
   "metadata": {},
   "outputs": [
    {
     "data": {
      "text/html": [
       "<div>\n",
       "<style scoped>\n",
       "    .dataframe tbody tr th:only-of-type {\n",
       "        vertical-align: middle;\n",
       "    }\n",
       "\n",
       "    .dataframe tbody tr th {\n",
       "        vertical-align: top;\n",
       "    }\n",
       "\n",
       "    .dataframe thead th {\n",
       "        text-align: right;\n",
       "    }\n",
       "</style>\n",
       "<table border=\"1\" class=\"dataframe\">\n",
       "  <thead>\n",
       "    <tr style=\"text-align: right;\">\n",
       "      <th></th>\n",
       "      <th>neighbourhood_group</th>\n",
       "      <th>latitude</th>\n",
       "      <th>longitude</th>\n",
       "      <th>room_type</th>\n",
       "      <th>price</th>\n",
       "      <th>minimum_nights</th>\n",
       "      <th>number_of_reviews</th>\n",
       "      <th>reviews_per_month</th>\n",
       "      <th>calculated_host_listings_count</th>\n",
       "      <th>availability_365</th>\n",
       "      <th>cancellation_policy</th>\n",
       "    </tr>\n",
       "  </thead>\n",
       "  <tbody>\n",
       "    <tr>\n",
       "      <th>4</th>\n",
       "      <td>Arganzuela</td>\n",
       "      <td>40.38985</td>\n",
       "      <td>-3.69011</td>\n",
       "      <td>Private room</td>\n",
       "      <td>25</td>\n",
       "      <td>2</td>\n",
       "      <td>136</td>\n",
       "      <td>1.19</td>\n",
       "      <td>1</td>\n",
       "      <td>337</td>\n",
       "      <td>strict_14_with_grace_period</td>\n",
       "    </tr>\n",
       "    <tr>\n",
       "      <th>111</th>\n",
       "      <td>Arganzuela</td>\n",
       "      <td>40.39548</td>\n",
       "      <td>-3.69392</td>\n",
       "      <td>Entire home/apt</td>\n",
       "      <td>115</td>\n",
       "      <td>2</td>\n",
       "      <td>42</td>\n",
       "      <td>1.94</td>\n",
       "      <td>5</td>\n",
       "      <td>55</td>\n",
       "      <td>moderate</td>\n",
       "    </tr>\n",
       "    <tr>\n",
       "      <th>122</th>\n",
       "      <td>Arganzuela</td>\n",
       "      <td>40.40522</td>\n",
       "      <td>-3.69454</td>\n",
       "      <td>Entire home/apt</td>\n",
       "      <td>65</td>\n",
       "      <td>3</td>\n",
       "      <td>30</td>\n",
       "      <td>0.36</td>\n",
       "      <td>1</td>\n",
       "      <td>137</td>\n",
       "      <td>moderate</td>\n",
       "    </tr>\n",
       "    <tr>\n",
       "      <th>136</th>\n",
       "      <td>Arganzuela</td>\n",
       "      <td>40.40266</td>\n",
       "      <td>-3.70374</td>\n",
       "      <td>Private room</td>\n",
       "      <td>24</td>\n",
       "      <td>6</td>\n",
       "      <td>137</td>\n",
       "      <td>1.59</td>\n",
       "      <td>4</td>\n",
       "      <td>227</td>\n",
       "      <td>strict_14_with_grace_period</td>\n",
       "    </tr>\n",
       "    <tr>\n",
       "      <th>139</th>\n",
       "      <td>Arganzuela</td>\n",
       "      <td>40.40442</td>\n",
       "      <td>-3.69256</td>\n",
       "      <td>Entire home/apt</td>\n",
       "      <td>70</td>\n",
       "      <td>5</td>\n",
       "      <td>28</td>\n",
       "      <td>0.31</td>\n",
       "      <td>1</td>\n",
       "      <td>140</td>\n",
       "      <td>moderate</td>\n",
       "    </tr>\n",
       "    <tr>\n",
       "      <th>...</th>\n",
       "      <td>...</td>\n",
       "      <td>...</td>\n",
       "      <td>...</td>\n",
       "      <td>...</td>\n",
       "      <td>...</td>\n",
       "      <td>...</td>\n",
       "      <td>...</td>\n",
       "      <td>...</td>\n",
       "      <td>...</td>\n",
       "      <td>...</td>\n",
       "      <td>...</td>\n",
       "    </tr>\n",
       "    <tr>\n",
       "      <th>20683</th>\n",
       "      <td>Villaverde</td>\n",
       "      <td>40.32252</td>\n",
       "      <td>-3.66562</td>\n",
       "      <td>Private room</td>\n",
       "      <td>22</td>\n",
       "      <td>1</td>\n",
       "      <td>1</td>\n",
       "      <td>1.00</td>\n",
       "      <td>1</td>\n",
       "      <td>174</td>\n",
       "      <td>flexible</td>\n",
       "    </tr>\n",
       "    <tr>\n",
       "      <th>20753</th>\n",
       "      <td>Villaverde</td>\n",
       "      <td>40.32093</td>\n",
       "      <td>-3.70369</td>\n",
       "      <td>Private room</td>\n",
       "      <td>57</td>\n",
       "      <td>3</td>\n",
       "      <td>0</td>\n",
       "      <td>NaN</td>\n",
       "      <td>1</td>\n",
       "      <td>3</td>\n",
       "      <td>flexible</td>\n",
       "    </tr>\n",
       "    <tr>\n",
       "      <th>20764</th>\n",
       "      <td>Villaverde</td>\n",
       "      <td>40.36001</td>\n",
       "      <td>-3.69004</td>\n",
       "      <td>Private room</td>\n",
       "      <td>25</td>\n",
       "      <td>1</td>\n",
       "      <td>0</td>\n",
       "      <td>NaN</td>\n",
       "      <td>3</td>\n",
       "      <td>353</td>\n",
       "      <td>flexible</td>\n",
       "    </tr>\n",
       "    <tr>\n",
       "      <th>20807</th>\n",
       "      <td>Villaverde</td>\n",
       "      <td>40.31948</td>\n",
       "      <td>-3.70278</td>\n",
       "      <td>Private room</td>\n",
       "      <td>15</td>\n",
       "      <td>2</td>\n",
       "      <td>1</td>\n",
       "      <td>1.00</td>\n",
       "      <td>1</td>\n",
       "      <td>31</td>\n",
       "      <td>flexible</td>\n",
       "    </tr>\n",
       "    <tr>\n",
       "      <th>20821</th>\n",
       "      <td>Villaverde</td>\n",
       "      <td>40.35353</td>\n",
       "      <td>-3.69552</td>\n",
       "      <td>Private room</td>\n",
       "      <td>15</td>\n",
       "      <td>1</td>\n",
       "      <td>0</td>\n",
       "      <td>NaN</td>\n",
       "      <td>1</td>\n",
       "      <td>79</td>\n",
       "      <td>flexible</td>\n",
       "    </tr>\n",
       "  </tbody>\n",
       "</table>\n",
       "<p>18714 rows × 11 columns</p>\n",
       "</div>"
      ],
      "text/plain": [
       "      neighbourhood_group  latitude  longitude        room_type  price  \\\n",
       "4              Arganzuela  40.38985   -3.69011     Private room     25   \n",
       "111            Arganzuela  40.39548   -3.69392  Entire home/apt    115   \n",
       "122            Arganzuela  40.40522   -3.69454  Entire home/apt     65   \n",
       "136            Arganzuela  40.40266   -3.70374     Private room     24   \n",
       "139            Arganzuela  40.40442   -3.69256  Entire home/apt     70   \n",
       "...                   ...       ...        ...              ...    ...   \n",
       "20683          Villaverde  40.32252   -3.66562     Private room     22   \n",
       "20753          Villaverde  40.32093   -3.70369     Private room     57   \n",
       "20764          Villaverde  40.36001   -3.69004     Private room     25   \n",
       "20807          Villaverde  40.31948   -3.70278     Private room     15   \n",
       "20821          Villaverde  40.35353   -3.69552     Private room     15   \n",
       "\n",
       "       minimum_nights  number_of_reviews  reviews_per_month  \\\n",
       "4                   2                136               1.19   \n",
       "111                 2                 42               1.94   \n",
       "122                 3                 30               0.36   \n",
       "136                 6                137               1.59   \n",
       "139                 5                 28               0.31   \n",
       "...               ...                ...                ...   \n",
       "20683               1                  1               1.00   \n",
       "20753               3                  0                NaN   \n",
       "20764               1                  0                NaN   \n",
       "20807               2                  1               1.00   \n",
       "20821               1                  0                NaN   \n",
       "\n",
       "       calculated_host_listings_count  availability_365  \\\n",
       "4                                   1               337   \n",
       "111                                 5                55   \n",
       "122                                 1               137   \n",
       "136                                 4               227   \n",
       "139                                 1               140   \n",
       "...                               ...               ...   \n",
       "20683                               1               174   \n",
       "20753                               1                 3   \n",
       "20764                               3               353   \n",
       "20807                               1                31   \n",
       "20821                               1                79   \n",
       "\n",
       "               cancellation_policy  \n",
       "4      strict_14_with_grace_period  \n",
       "111                       moderate  \n",
       "122                       moderate  \n",
       "136    strict_14_with_grace_period  \n",
       "139                       moderate  \n",
       "...                            ...  \n",
       "20683                     flexible  \n",
       "20753                     flexible  \n",
       "20764                     flexible  \n",
       "20807                     flexible  \n",
       "20821                     flexible  \n",
       "\n",
       "[18714 rows x 11 columns]"
      ]
     },
     "execution_count": 231,
     "metadata": {},
     "output_type": "execute_result"
    }
   ],
   "source": [
    "new_df"
   ]
  },
  {
   "cell_type": "code",
   "execution_count": null,
   "metadata": {},
   "outputs": [],
   "source": []
  }
 ],
 "metadata": {
  "kernelspec": {
   "display_name": "my-venv",
   "language": "python",
   "name": "my-venv"
  },
  "language_info": {
   "codemirror_mode": {
    "name": "ipython",
    "version": 3
   },
   "file_extension": ".py",
   "mimetype": "text/x-python",
   "name": "python",
   "nbconvert_exporter": "python",
   "pygments_lexer": "ipython3",
   "version": "3.6.10"
  }
 },
 "nbformat": 4,
 "nbformat_minor": 2
}
